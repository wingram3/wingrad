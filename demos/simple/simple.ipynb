{
 "cells": [
  {
   "cell_type": "code",
   "execution_count": 1,
   "id": "a60192b9-3aac-4b9a-bafc-f85f7ddb49e6",
   "metadata": {},
   "outputs": [],
   "source": [
    "import numpy as np\n",
    "from wingrad.net import MLP"
   ]
  },
  {
   "cell_type": "code",
   "execution_count": 2,
   "id": "d6072e51-292b-46d0-b89f-5c7173e2bc69",
   "metadata": {},
   "outputs": [],
   "source": [
    "# initialize model\n",
    "m = MLP(3, [9, 9, 1])"
   ]
  },
  {
   "cell_type": "code",
   "execution_count": 3,
   "id": "7b53c40c-2a5d-4ccf-a44b-3c95ffddf1a4",
   "metadata": {},
   "outputs": [],
   "source": [
    "# simple training features\n",
    "xs = np.array([[2.0, 3.0, 0.5, 1.0],\n",
    "               [3.0, -1.0, 1.0, 1.0],\n",
    "               [-1.0, 0.5, 1.0, -1.0]])\n",
    "\n",
    "# simple training labels\n",
    "ys = np.array([[1.0], [-1.0], [-1.0], [1.0]])"
   ]
  },
  {
   "cell_type": "code",
   "execution_count": 4,
   "id": "7cad56fb-457f-4dcd-9dbd-ab73d0bd0616",
   "metadata": {},
   "outputs": [],
   "source": [
    "# reshaping and configuring the data for model\n",
    "dataset = [xs[:, i].reshape(3, 1) for i in range(4)]"
   ]
  },
  {
   "cell_type": "code",
   "execution_count": 5,
   "id": "1e574999-20ee-4a34-bbae-b28b38eb87fd",
   "metadata": {},
   "outputs": [
    {
     "name": "stdout",
     "output_type": "stream",
     "text": [
      "0 [[8.63668389]] [Tensor(data=[[-0.28146269]]), Tensor(data=[[-0.99740684]]), Tensor(data=[[0.73491422]]), Tensor(data=[[-0.99614708]])]\n",
      "1 [[0.01443622]] [Tensor(data=[[0.99679748]]), Tensor(data=[[-0.8800726]]), Tensor(data=[[-0.99364283]]), Tensor(data=[[0.99827834]])]\n",
      "2 [[0.00314589]] [Tensor(data=[[0.99687525]]), Tensor(data=[[-0.94442133]]), Tensor(data=[[-0.99335514]]), Tensor(data=[[0.99827369]])]\n",
      "3 [[0.00247084]] [Tensor(data=[[0.99688977]]), Tensor(data=[[-0.95087543]]), Tensor(data=[[-0.99329519]]), Tensor(data=[[0.99827144]])]\n",
      "4 [[0.00206968]] [Tensor(data=[[0.99690106]]), Tensor(data=[[-0.95515014]]), Tensor(data=[[-0.99324945]]), Tensor(data=[[0.99826968]])]\n",
      "5 [[0.00179825]] [Tensor(data=[[0.99691047]]), Tensor(data=[[-0.95829111]]), Tensor(data=[[-0.99321221]]), Tensor(data=[[0.99826824]])]\n",
      "6 [[0.0016002]] [Tensor(data=[[0.99691865]]), Tensor(data=[[-0.96074188]]), Tensor(data=[[-0.99318078]]), Tensor(data=[[0.99826704]])]\n",
      "7 [[0.00144826]] [Tensor(data=[[0.99692594]]), Tensor(data=[[-0.96273161]]), Tensor(data=[[-0.99315361]]), Tensor(data=[[0.99826602]])]\n",
      "8 [[0.00132744]] [Tensor(data=[[0.99693256]]), Tensor(data=[[-0.96439356]]), Tensor(data=[[-0.99312972]]), Tensor(data=[[0.99826514]])]\n",
      "9 [[0.00122871]] [Tensor(data=[[0.99693866]]), Tensor(data=[[-0.96581175]]), Tensor(data=[[-0.99310845]]), Tensor(data=[[0.99826437]])]\n",
      "10 [[0.00114631]] [Tensor(data=[[0.99694432]]), Tensor(data=[[-0.96704237]]), Tensor(data=[[-0.99308932]]), Tensor(data=[[0.9982637]])]\n",
      "11 [[0.00107635]] [Tensor(data=[[0.99694964]]), Tensor(data=[[-0.9681247]]), Tensor(data=[[-0.99307199]]), Tensor(data=[[0.99826311]])]\n",
      "12 [[0.00101611]] [Tensor(data=[[0.99695465]]), Tensor(data=[[-0.96908722]]), Tensor(data=[[-0.99305619]]), Tensor(data=[[0.99826259]])]\n",
      "13 [[0.00096361]] [Tensor(data=[[0.99695941]]), Tensor(data=[[-0.96995121]]), Tensor(data=[[-0.99304172]]), Tensor(data=[[0.99826213]])]\n",
      "14 [[0.00091741]] [Tensor(data=[[0.99696394]]), Tensor(data=[[-0.9707329]]), Tensor(data=[[-0.99302839]]), Tensor(data=[[0.99826172]])]\n",
      "15 [[0.00087638]] [Tensor(data=[[0.99696828]]), Tensor(data=[[-0.97144496]]), Tensor(data=[[-0.99301608]]), Tensor(data=[[0.99826136]])]\n",
      "16 [[0.00083968]] [Tensor(data=[[0.99697245]]), Tensor(data=[[-0.97209747]]), Tensor(data=[[-0.99300468]]), Tensor(data=[[0.99826105]])]\n",
      "17 [[0.00080662]] [Tensor(data=[[0.99697646]]), Tensor(data=[[-0.97269852]]), Tensor(data=[[-0.99299408]]), Tensor(data=[[0.99826076]])]\n",
      "18 [[0.00077667]] [Tensor(data=[[0.99698033]]), Tensor(data=[[-0.97325475]]), Tensor(data=[[-0.99298421]]), Tensor(data=[[0.99826052]])]\n",
      "19 [[0.0007494]] [Tensor(data=[[0.99698408]]), Tensor(data=[[-0.97377161]]), Tensor(data=[[-0.99297501]]), Tensor(data=[[0.9982603]])]\n",
      "20 [[0.00072444]] [Tensor(data=[[0.99698772]]), Tensor(data=[[-0.97425369]]), Tensor(data=[[-0.9929664]]), Tensor(data=[[0.99826011]])]\n",
      "21 [[0.00070151]] [Tensor(data=[[0.99699125]]), Tensor(data=[[-0.97470483]]), Tensor(data=[[-0.99295835]]), Tensor(data=[[0.99825995]])]\n",
      "22 [[0.00068035]] [Tensor(data=[[0.99699468]]), Tensor(data=[[-0.97512829]]), Tensor(data=[[-0.99295081]]), Tensor(data=[[0.9982598]])]\n",
      "23 [[0.00066076]] [Tensor(data=[[0.99699803]]), Tensor(data=[[-0.97552688]]), Tensor(data=[[-0.99294373]]), Tensor(data=[[0.99825968]])]\n",
      "24 [[0.00064257]] [Tensor(data=[[0.9970013]]), Tensor(data=[[-0.97590302]]), Tensor(data=[[-0.99293709]]), Tensor(data=[[0.99825958]])]\n",
      "25 [[0.00062562]] [Tensor(data=[[0.99700449]]), Tensor(data=[[-0.97625879]]), Tensor(data=[[-0.99293085]]), Tensor(data=[[0.9982595]])]\n",
      "26 [[0.00060979]] [Tensor(data=[[0.99700761]]), Tensor(data=[[-0.97659601]]), Tensor(data=[[-0.99292498]]), Tensor(data=[[0.99825944]])]\n",
      "27 [[0.00059496]] [Tensor(data=[[0.99701066]]), Tensor(data=[[-0.97691631]]), Tensor(data=[[-0.99291947]]), Tensor(data=[[0.99825939]])]\n",
      "28 [[0.00058103]] [Tensor(data=[[0.99701365]]), Tensor(data=[[-0.97722108]]), Tensor(data=[[-0.99291428]]), Tensor(data=[[0.99825935]])]\n",
      "29 [[0.00056794]] [Tensor(data=[[0.99701658]]), Tensor(data=[[-0.97751158]]), Tensor(data=[[-0.9929094]]), Tensor(data=[[0.99825933]])]\n"
     ]
    }
   ],
   "source": [
    "# training loop\n",
    "for k in range(30):\n",
    "\n",
    "    # forward pass\n",
    "    ypred = [m(d) for d in dataset]\n",
    "    loss = sum([(yout - ygt)**2 for ygt, yout in zip(ys, ypred)])\n",
    "\n",
    "    # zero grad\n",
    "    m.zero_grad() \n",
    "\n",
    "    # backward pass\n",
    "    loss.backward()\n",
    "\n",
    "    # update parameters\n",
    "    for p in m.parameters():\n",
    "        p.data += -0.09 * p.grad\n",
    "\n",
    "    print(k, loss.data, ypred)"
   ]
  }
 ],
 "metadata": {
  "kernelspec": {
   "display_name": "Python 3 (ipykernel)",
   "language": "python",
   "name": "python3"
  },
  "language_info": {
   "codemirror_mode": {
    "name": "ipython",
    "version": 3
   },
   "file_extension": ".py",
   "mimetype": "text/x-python",
   "name": "python",
   "nbconvert_exporter": "python",
   "pygments_lexer": "ipython3",
   "version": "3.12.1"
  }
 },
 "nbformat": 4,
 "nbformat_minor": 5
}
